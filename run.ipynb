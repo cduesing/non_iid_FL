{
 "cells": [
  {
   "cell_type": "code",
   "execution_count": 1,
   "id": "e2ce3f4b-63b2-4613-b614-9400a6543ba4",
   "metadata": {
    "id": "e2ce3f4b-63b2-4613-b614-9400a6543ba4"
   },
   "outputs": [],
   "source": [
    "import strategies\n",
    "import load_data\n",
    "\n",
    "import warnings\n",
    "warnings.filterwarnings(\"ignore\")"
   ]
  },
  {
   "cell_type": "code",
   "execution_count": 2,
   "id": "b2c5dc30-59b5-4068-8821-dab06754776c",
   "metadata": {
    "id": "b2c5dc30-59b5-4068-8821-dab06754776c"
   },
   "outputs": [],
   "source": [
    "# Data Features\n",
    "dataset_name = \"covtype\"\n",
    "\n",
    "# Data Distribution\n",
    "attribute_skew = None \n",
    "label_or_quantity_skew = \"label_distribution\"\n",
    "label_alpha = 1\n",
    "label_n = None\n",
    "attribute_alpha = None\n",
    "num_clients = 30\n",
    "purity = 0.7\n",
    "\n",
    "# Analysis Parameters\n",
    "num_quantiles = 4\n",
    "\n",
    "# Lerning Parametes\n",
    "num_central_epochs = 0\n",
    "num_local_epochs = 1\n",
    "local_multiplier = 1\n",
    "num_rounds = 2\n",
    "\n",
    "# Learning Strategy\n",
    "strategy_name = \"FedAvg\"\n",
    "model_name = \"auto\"\n",
    "stepsize = 1.2\n",
    "weighted = True\n",
    "reset_per_round = False\n",
    "\n",
    "# Static Parameters\n",
    "batch_size= 64\n",
    "device = \"cpu\"\n",
    "test_set_fraction = 0.2\n",
    "shared_set_fraction = 0.001\n",
    "\n",
    "# Logging\n",
    "log_per_round = True\n",
    "log_file = None\n",
    "averaging = \"weighted\""
   ]
  },
  {
   "cell_type": "code",
   "execution_count": 3,
   "id": "2945293c-6ace-43e6-90c1-c8fe0130c982",
   "metadata": {
    "id": "2945293c-6ace-43e6-90c1-c8fe0130c982"
   },
   "outputs": [],
   "source": [
    "config = {\n",
    "    \"strategy_name\": strategy_name,\n",
    "    \"model_name\": model_name,\n",
    "    \"dataset_name\": dataset_name,\n",
    "    \n",
    "    \"num_clients\":num_clients,\n",
    "    \"batch_size\":batch_size,\n",
    "    \n",
    "    \"weighted\":weighted,\n",
    "    \"reset_per_round\":reset_per_round,\n",
    "    \n",
    "    \"device\":device,\n",
    "    \"stepsize\":stepsize,\n",
    "    \"rounds\": num_rounds,\n",
    "    \"local_epochs\": num_local_epochs,\n",
    "    \"central_epochs\": num_central_epochs,\n",
    "    \"local_multiplier\": local_multiplier,\n",
    "    \n",
    "    \"attribute_skew\": attribute_skew,\n",
    "    \"label_skew\": label_or_quantity_skew,\n",
    "    \"label_alpha\": label_alpha,\n",
    "    \"label_n\": label_n,\n",
    "    \"attribute_alpha\": attribute_alpha,\n",
    "    \"purity\": purity,\n",
    "    \"num_quantiles\": num_quantiles,\n",
    "    \n",
    "    \"test_set_fraction\": test_set_fraction,\n",
    "    \"shared_set_fraction\": shared_set_fraction,\n",
    "    \n",
    "    \"evaluation_averaging\": averaging,\n",
    "}"
   ]
  },
  {
   "cell_type": "code",
   "execution_count": null,
   "id": "ceaa3b56-77be-466e-bc0f-75e0c5c4c14d",
   "metadata": {},
   "outputs": [],
   "source": [
    "# load the raw data from file\n",
    "config = load_data.load_raw_data(config)\n",
    "# apply split for train, shared, test and distribute train over clients\n",
    "config = load_data.distribute_skewed_data(config)\n",
    "# initialize learning strategy\n",
    "learning_strategy = strategies.get_strategy_by_name(config)\n",
    "# perform training\n",
    "_ = learning_strategy.run(config, filename=log_file, log_per_round=log_per_round)"
   ]
  },
  {
   "cell_type": "code",
   "execution_count": null,
   "id": "933c81f9-4aea-40e4-81a4-15d684c08ecc",
   "metadata": {},
   "outputs": [],
   "source": []
  }
 ],
 "metadata": {
  "accelerator": "GPU",
  "colab": {
   "collapsed_sections": [],
   "machine_shape": "hm",
   "name": "Apply_FL_vs_Central_Learning.ipynb",
   "provenance": []
  },
  "gpuClass": "standard",
  "kernelspec": {
   "display_name": "Python (scispacy)",
   "language": "python",
   "name": "scispacy"
  },
  "language_info": {
   "codemirror_mode": {
    "name": "ipython",
    "version": 3
   },
   "file_extension": ".py",
   "mimetype": "text/x-python",
   "name": "python",
   "nbconvert_exporter": "python",
   "pygments_lexer": "ipython3",
   "version": "3.6.13"
  }
 },
 "nbformat": 4,
 "nbformat_minor": 5
}
